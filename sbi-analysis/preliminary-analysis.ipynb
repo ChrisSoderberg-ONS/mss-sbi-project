{
 "cells": [
  {
   "cell_type": "markdown",
   "metadata": {},
   "source": [
    "# Preliminary Analysis\n",
    "\n",
    "In this page, we do a first analysis of finding how many new developments are within 1km of an SBI, and why we chose this as our metric for then deciding the heurisic of which sites are at risk."
   ]
  },
  {
   "cell_type": "markdown",
   "metadata": {},
   "source": [
    "## Example code - Calculating distances between centroids\n",
    "\n",
    "Load and join up the example data:"
   ]
  },
  {
   "cell_type": "code",
   "execution_count": 4,
   "metadata": {},
   "outputs": [],
   "source": [
    "import geopandas as gpd\n",
    "import pandas as pd\n",
    "\n",
    "# Load and join GMCA housing, industrial and office supply data\n",
    "\n",
    "housing_supply_gdf = gpd.read_file(\"data/gmca_data/2024 GM Housing Land Supply GIS.shp\")\n",
    "industrial_supply_gdf = gpd.read_file(\"data/gmca_data/2024 GM Industrial-warehousing Land Supply GIS.shp\")\n",
    "offices_supply_gdf = gpd.read_file(\"data/gmca_data/2024 GM Offices Land Supply GIS.shp\")\n",
    "\n",
    "total_supply_gdf = pd.concat(\n",
    "    [housing_supply_gdf, industrial_supply_gdf, offices_supply_gdf]\n",
    ")\n",
    "\n",
    "# Load and tidy GMEU Sites of Biological Importance data\n",
    "\n",
    "sbi_gdf = gpd.read_file(\"data/gmeu_data/gm_sbi.shp\")\n",
    "\n",
    "sbi_gdf[\"Category\"] = \"Site of Biological Importance\"\n",
    "\n",
    "sbi_gdf = sbi_gdf.rename(columns = {\"district\": \"LAName\", \"site_nam\": \"SiteRef\"})\n",
    "\n",
    "# Join GMCA and GMEU data\n",
    "\n",
    "full_data_gdf = pd.concat(\n",
    "    [total_supply_gdf, sbi_gdf[[\"SiteRef\", \"LAName\", \"Category\", \"geometry\"]]]\n",
    ")"
   ]
  },
  {
   "cell_type": "markdown",
   "metadata": {},
   "source": [
    "We can use GeoPandas to get the centroids of all our data:"
   ]
  },
  {
   "cell_type": "code",
   "execution_count": 5,
   "metadata": {},
   "outputs": [],
   "source": [
    "full_data_gdf[\"centroid\"] = full_data_gdf.centroid\n"
   ]
  },
  {
   "cell_type": "markdown",
   "metadata": {},
   "source": [
    "Now we can extract the location of a random SBI and a random proposed development site:"
   ]
  },
  {
   "cell_type": "code",
   "execution_count": 6,
   "metadata": {},
   "outputs": [
    {
     "name": "stdout",
     "output_type": "stream",
     "text": [
      "POINT (391461.6527133883 390419.94938028237)\n"
     ]
    }
   ],
   "source": [
    "random_sbi = full_data_gdf[\n",
    "    full_data_gdf[\"Category\"] == \"Site of Biological Importance\"\n",
    "    ].sample(1)\n",
    "\n",
    "random_sbi = random_sbi[\"centroid\"].iloc[0]\n",
    "\n",
    "print(random_sbi)"
   ]
  },
  {
   "cell_type": "code",
   "execution_count": 7,
   "metadata": {},
   "outputs": [
    {
     "name": "stdout",
     "output_type": "stream",
     "text": [
      "POINT (389059.24676497496 414041.33074387966)\n"
     ]
    }
   ],
   "source": [
    "random_housing = full_data_gdf[\n",
    "    full_data_gdf[\"Category\"] == \"Housing\"\n",
    "    ].sample(1)\n",
    "\n",
    "random_housing = random_housing[\"centroid\"].iloc[0]\n",
    "\n",
    "print(random_housing)"
   ]
  },
  {
   "cell_type": "markdown",
   "metadata": {},
   "source": [
    "The distance between two Point objects can be calculated using Shapely:"
   ]
  },
  {
   "cell_type": "code",
   "execution_count": 8,
   "metadata": {},
   "outputs": [
    {
     "name": "stdout",
     "output_type": "stream",
     "text": [
      "23743.24\n"
     ]
    }
   ],
   "source": [
    "import shapely\n",
    "\n",
    "print(\n",
    "    round(shapely.distance(random_housing, random_sbi), 2)\n",
    ")"
   ]
  },
  {
   "cell_type": "markdown",
   "metadata": {},
   "source": [
    "## Calculating distances between centroids to classify locations as at risk\n",
    "\n",
    "The main part of this project is now to use this methodology to repeat for all of the SBI sites, and find which ones have the most new property developments near them. From this, we can figure out which are the most at risk."
   ]
  },
  {
   "cell_type": "code",
   "execution_count": 9,
   "metadata": {},
   "outputs": [],
   "source": [
    "#Find distance between one point and all other points\n",
    "\n",
    "sbi = full_data_gdf[full_data_gdf[\"Category\"] == \"Site of Biological Importance\"]\n",
    "non_sbi = full_data_gdf[full_data_gdf[\"Category\"] != \"Site of Biological Importance\"]\n",
    "\n",
    "example_distances = non_sbi[\"centroid\"].distance(random_sbi)\n",
    "#finds the difference to one random sbi from all of the developments\n"
   ]
  },
  {
   "cell_type": "markdown",
   "metadata": {},
   "source": [
    "Using this we can then find how many developments are within xkm of each SBI."
   ]
  },
  {
   "cell_type": "code",
   "execution_count": 10,
   "metadata": {},
   "outputs": [
    {
     "data": {
      "text/html": [
       "<div>\n",
       "<style scoped>\n",
       "    .dataframe tbody tr th:only-of-type {\n",
       "        vertical-align: middle;\n",
       "    }\n",
       "\n",
       "    .dataframe tbody tr th {\n",
       "        vertical-align: top;\n",
       "    }\n",
       "\n",
       "    .dataframe thead th {\n",
       "        text-align: right;\n",
       "    }\n",
       "</style>\n",
       "<table border=\"1\" class=\"dataframe\">\n",
       "  <thead>\n",
       "    <tr style=\"text-align: right;\">\n",
       "      <th></th>\n",
       "      <th>SBI Name</th>\n",
       "      <th>No. Sites in 1km</th>\n",
       "    </tr>\n",
       "  </thead>\n",
       "  <tbody>\n",
       "    <tr>\n",
       "      <th>0</th>\n",
       "      <td>Big Wood</td>\n",
       "      <td>0</td>\n",
       "    </tr>\n",
       "    <tr>\n",
       "      <th>1</th>\n",
       "      <td>Winstanley Hall Woods</td>\n",
       "      <td>1</td>\n",
       "    </tr>\n",
       "    <tr>\n",
       "      <th>2</th>\n",
       "      <td>Ackhurst Lane Sand Workings</td>\n",
       "      <td>3</td>\n",
       "    </tr>\n",
       "    <tr>\n",
       "      <th>3</th>\n",
       "      <td>Abbey Lakes</td>\n",
       "      <td>6</td>\n",
       "    </tr>\n",
       "    <tr>\n",
       "      <th>4</th>\n",
       "      <td>Wetland by M6</td>\n",
       "      <td>1</td>\n",
       "    </tr>\n",
       "    <tr>\n",
       "      <th>...</th>\n",
       "      <td>...</td>\n",
       "      <td>...</td>\n",
       "    </tr>\n",
       "    <tr>\n",
       "      <th>531</th>\n",
       "      <td>Mill Race &amp; Pasture at Haughton Dale</td>\n",
       "      <td>8</td>\n",
       "    </tr>\n",
       "    <tr>\n",
       "      <th>532</th>\n",
       "      <td>Three Sisters</td>\n",
       "      <td>2</td>\n",
       "    </tr>\n",
       "    <tr>\n",
       "      <th>533</th>\n",
       "      <td>Nan Nook Wood</td>\n",
       "      <td>7</td>\n",
       "    </tr>\n",
       "    <tr>\n",
       "      <th>534</th>\n",
       "      <td>Big Wood</td>\n",
       "      <td>10</td>\n",
       "    </tr>\n",
       "    <tr>\n",
       "      <th>535</th>\n",
       "      <td>Bank Wood &amp; Marsh</td>\n",
       "      <td>11</td>\n",
       "    </tr>\n",
       "  </tbody>\n",
       "</table>\n",
       "<p>536 rows × 2 columns</p>\n",
       "</div>"
      ],
      "text/plain": [
       "                                 SBI Name  No. Sites in 1km\n",
       "0                                Big Wood                 0\n",
       "1                   Winstanley Hall Woods                 1\n",
       "2             Ackhurst Lane Sand Workings                 3\n",
       "3                             Abbey Lakes                 6\n",
       "4                           Wetland by M6                 1\n",
       "..                                    ...               ...\n",
       "531  Mill Race & Pasture at Haughton Dale                 8\n",
       "532                         Three Sisters                 2\n",
       "533                         Nan Nook Wood                 7\n",
       "534                              Big Wood                10\n",
       "535                     Bank Wood & Marsh                11\n",
       "\n",
       "[536 rows x 2 columns]"
      ]
     },
     "execution_count": 10,
     "metadata": {},
     "output_type": "execute_result"
    }
   ],
   "source": [
    "#Find the number of new developments less than 1km away for each SBI\n",
    "\n",
    "sbinames = list(sbi[\"SiteRef\"]) #list of all the sbis\n",
    "\n",
    "distances = list()\n",
    "less_than_1km = list() #creating empty lists to add to data frame\n",
    "\n",
    "for x in sbi[\"centroid\"]: #loop through each sbi\n",
    "    y = non_sbi[\"centroid\"].distance(x) #find all the distances of developments to centroid\n",
    "    for distance in y: #filter for less than 1km away\n",
    "            if distance <1000:\n",
    "                distances.append(distance)\n",
    "    r = len(distances)    #find no. developments less than 1km away to each sbi\n",
    "    less_than_1km.append(r)\n",
    "    distances = list()\n",
    "\n",
    "\n",
    "\n",
    "Dev_1km = pd.DataFrame({'SBI Name':sbinames, 'No. Sites in 1km': less_than_1km}) #create dataframe of sbi and no. developments\n",
    "             \n",
    "Dev_1km\n",
    "                \n",
    "  \n"
   ]
  },
  {
   "cell_type": "markdown",
   "metadata": {},
   "source": [
    "Then, to consider how useful 1km is as a metric, we can plot a graph of the distribution of frequency of new developments near an SBI."
   ]
  },
  {
   "cell_type": "code",
   "execution_count": 11,
   "metadata": {},
   "outputs": [
    {
     "data": {
      "image/png": "[encoded data removed]",
      "text/plain": [
       "<Figure size 1200x600 with 1 Axes>"
      ]
     },
     "metadata": {},
     "output_type": "display_data"
    }
   ],
   "source": [
    "#See the distribution of the number of sites near the sbi to choose \"at risk\"\n",
    "import matplotlib.pyplot as plt\n",
    "\n",
    "\n",
    "# Calculate frequencies of non-SBI site counts within 1km of each SBI\n",
    "import collections\n",
    "freq = collections.Counter(less_than_1km)\n",
    "\n",
    "\n",
    "# Sort by number of sites for x-axis order\n",
    "counts = sorted(freq.items())\n",
    "x, y = zip(*counts)\n",
    "plt.figure(figsize=(12, 6))\n",
    "plt.bar(x, y)\n",
    "plt.xlabel('Number of non-SBI sites within 1km')\n",
    "plt.ylabel('Frequency (number of SBIs)')\n",
    "plt.title('Frequency of non-SBI sites within 1km of each SBI')\n",
    "plt.tight_layout()\n",
    "plt.show()\n",
    "\n"
   ]
  },
  {
   "cell_type": "markdown",
   "metadata": {},
   "source": [
    "To compare we can do this for 1.5km too, to ensure 1km is a good choice."
   ]
  },
  {
   "cell_type": "code",
   "execution_count": 12,
   "metadata": {},
   "outputs": [
    {
     "data": {
      "image/png": "[encoded data removed]",
      "text/plain": [
       "<Figure size 1200x600 with 1 Axes>"
      ]
     },
     "metadata": {},
     "output_type": "display_data"
    }
   ],
   "source": [
    "#Similarly, for 1.5km\n",
    "\n",
    "distances = list()\n",
    "less_than_1km = list() #creating empty lists to add to data frame\n",
    "\n",
    "for x in sbi[\"centroid\"]: #loop through each sbi\n",
    "    y = non_sbi[\"centroid\"].distance(x) #find all the distances of developments to centroid\n",
    "    for distance in y: #filter for less than 1km away\n",
    "            if distance <1500:\n",
    "                distances.append(distance)\n",
    "    r = len(distances)    #find no. developments less than 1km away to each sbi\n",
    "    less_than_1km.append(r)\n",
    "    distances = list()\n",
    "\n",
    "\n",
    "#See the distribution of the number of sites near the sbi to choose \"at risk\"\n",
    "import matplotlib.pyplot as plt\n",
    "\n",
    "\n",
    "# Calculate frequencies of non-SBI site counts within 1km of each SBI\n",
    "import collections\n",
    "freq = collections.Counter(less_than_1km)\n",
    "\n",
    "\n",
    "# Sort by number of sites for x-axis order\n",
    "counts = sorted(freq.items())\n",
    "x, y = zip(*counts)\n",
    "plt.figure(figsize=(12, 6))\n",
    "plt.bar(x, y)\n",
    "plt.xlabel('Number of non-SBI sites within 1.5km')\n",
    "plt.ylabel('Frequency (number of SBIs)')\n",
    "plt.title('Frequency of non-SBI sites within 1.5km of each SBI')\n",
    "plt.tight_layout()\n",
    "plt.show()"
   ]
  },
  {
   "cell_type": "markdown",
   "metadata": {},
   "source": [
    "From these graphs, the 1.5km graph is a lot more spread out, and 70 new developments is a very large number, and most likely refers to small developments, whereas there may be one SBI with a few large developments that would not be captured here, hence 1km is the better choice for this case."
   ]
  },
  {
   "cell_type": "markdown",
   "metadata": {},
   "source": [
    "## Defining which SBI sites are at risk\n",
    "\n",
    "The next task is to determine which sites are at risk, our first thought was to define two risk thresholds of moderate risk and major risk from the graph above."
   ]
  },
  {
   "cell_type": "code",
   "execution_count": 13,
   "metadata": {},
   "outputs": [
    {
     "data": {
      "text/html": [
       "<div>\n",
       "<style scoped>\n",
       "    .dataframe tbody tr th:only-of-type {\n",
       "        vertical-align: middle;\n",
       "    }\n",
       "\n",
       "    .dataframe tbody tr th {\n",
       "        vertical-align: top;\n",
       "    }\n",
       "\n",
       "    .dataframe thead th {\n",
       "        text-align: right;\n",
       "    }\n",
       "</style>\n",
       "<table border=\"1\" class=\"dataframe\">\n",
       "  <thead>\n",
       "    <tr style=\"text-align: right;\">\n",
       "      <th></th>\n",
       "      <th>SBI Name</th>\n",
       "      <th>No. Sites in 1km</th>\n",
       "      <th>moderate risk</th>\n",
       "      <th>major risk</th>\n",
       "    </tr>\n",
       "  </thead>\n",
       "  <tbody>\n",
       "    <tr>\n",
       "      <th>0</th>\n",
       "      <td>Big Wood</td>\n",
       "      <td>0</td>\n",
       "      <td>False</td>\n",
       "      <td>False</td>\n",
       "    </tr>\n",
       "    <tr>\n",
       "      <th>1</th>\n",
       "      <td>Winstanley Hall Woods</td>\n",
       "      <td>1</td>\n",
       "      <td>False</td>\n",
       "      <td>False</td>\n",
       "    </tr>\n",
       "    <tr>\n",
       "      <th>2</th>\n",
       "      <td>Ackhurst Lane Sand Workings</td>\n",
       "      <td>3</td>\n",
       "      <td>False</td>\n",
       "      <td>False</td>\n",
       "    </tr>\n",
       "    <tr>\n",
       "      <th>3</th>\n",
       "      <td>Abbey Lakes</td>\n",
       "      <td>6</td>\n",
       "      <td>False</td>\n",
       "      <td>False</td>\n",
       "    </tr>\n",
       "    <tr>\n",
       "      <th>4</th>\n",
       "      <td>Wetland by M6</td>\n",
       "      <td>1</td>\n",
       "      <td>False</td>\n",
       "      <td>False</td>\n",
       "    </tr>\n",
       "    <tr>\n",
       "      <th>...</th>\n",
       "      <td>...</td>\n",
       "      <td>...</td>\n",
       "      <td>...</td>\n",
       "      <td>...</td>\n",
       "    </tr>\n",
       "    <tr>\n",
       "      <th>531</th>\n",
       "      <td>Mill Race &amp; Pasture at Haughton Dale</td>\n",
       "      <td>8</td>\n",
       "      <td>False</td>\n",
       "      <td>False</td>\n",
       "    </tr>\n",
       "    <tr>\n",
       "      <th>532</th>\n",
       "      <td>Three Sisters</td>\n",
       "      <td>2</td>\n",
       "      <td>False</td>\n",
       "      <td>False</td>\n",
       "    </tr>\n",
       "    <tr>\n",
       "      <th>533</th>\n",
       "      <td>Nan Nook Wood</td>\n",
       "      <td>7</td>\n",
       "      <td>False</td>\n",
       "      <td>False</td>\n",
       "    </tr>\n",
       "    <tr>\n",
       "      <th>534</th>\n",
       "      <td>Big Wood</td>\n",
       "      <td>10</td>\n",
       "      <td>False</td>\n",
       "      <td>False</td>\n",
       "    </tr>\n",
       "    <tr>\n",
       "      <th>535</th>\n",
       "      <td>Bank Wood &amp; Marsh</td>\n",
       "      <td>11</td>\n",
       "      <td>False</td>\n",
       "      <td>False</td>\n",
       "    </tr>\n",
       "  </tbody>\n",
       "</table>\n",
       "<p>536 rows × 4 columns</p>\n",
       "</div>"
      ],
      "text/plain": [
       "                                 SBI Name  No. Sites in 1km  moderate risk  \\\n",
       "0                                Big Wood                 0          False   \n",
       "1                   Winstanley Hall Woods                 1          False   \n",
       "2             Ackhurst Lane Sand Workings                 3          False   \n",
       "3                             Abbey Lakes                 6          False   \n",
       "4                           Wetland by M6                 1          False   \n",
       "..                                    ...               ...            ...   \n",
       "531  Mill Race & Pasture at Haughton Dale                 8          False   \n",
       "532                         Three Sisters                 2          False   \n",
       "533                         Nan Nook Wood                 7          False   \n",
       "534                              Big Wood                10          False   \n",
       "535                     Bank Wood & Marsh                11          False   \n",
       "\n",
       "     major risk  \n",
       "0         False  \n",
       "1         False  \n",
       "2         False  \n",
       "3         False  \n",
       "4         False  \n",
       "..          ...  \n",
       "531       False  \n",
       "532       False  \n",
       "533       False  \n",
       "534       False  \n",
       "535       False  \n",
       "\n",
       "[536 rows x 4 columns]"
      ]
     },
     "execution_count": 13,
     "metadata": {},
     "output_type": "execute_result"
    }
   ],
   "source": [
    "#Choosing the \"at risk\" threshold, from the graph above choose: >20 at risk, >30 highly at risk\n",
    "sbi = full_data_gdf[full_data_gdf[\"Category\"] == \"Site of Biological Importance\"]\n",
    "\n",
    "Dev_1km= Dev_1km\n",
    "Dev_1km[\"moderate risk\"] = Dev_1km[\"No. Sites in 1km\"] >=15 \n",
    "Dev_1km[\"major risk\"] = Dev_1km[\"No. Sites in 1km\"] >=30\n",
    "\n",
    "Dev_1km\n",
    "\n"
   ]
  },
  {
   "cell_type": "markdown",
   "metadata": {},
   "source": [
    "Then we considered that for mapping purposes, creating a \"scale of risk\" might be useful. We arbritrarily chose the bins as 0, 1-10, 11-20, 21-30, 31-40 as the first attempt for this."
   ]
  },
  {
   "cell_type": "code",
   "execution_count": 14,
   "metadata": {},
   "outputs": [
    {
     "data": {
      "text/html": [
       "<div>\n",
       "<style scoped>\n",
       "    .dataframe tbody tr th:only-of-type {\n",
       "        vertical-align: middle;\n",
       "    }\n",
       "\n",
       "    .dataframe tbody tr th {\n",
       "        vertical-align: top;\n",
       "    }\n",
       "\n",
       "    .dataframe thead th {\n",
       "        text-align: right;\n",
       "    }\n",
       "</style>\n",
       "<table border=\"1\" class=\"dataframe\">\n",
       "  <thead>\n",
       "    <tr style=\"text-align: right;\">\n",
       "      <th></th>\n",
       "      <th>SBI Name</th>\n",
       "      <th>No. Sites in 1km</th>\n",
       "      <th>moderate risk</th>\n",
       "      <th>major risk</th>\n",
       "      <th>Risk Scale</th>\n",
       "    </tr>\n",
       "  </thead>\n",
       "  <tbody>\n",
       "    <tr>\n",
       "      <th>0</th>\n",
       "      <td>Big Wood</td>\n",
       "      <td>0</td>\n",
       "      <td>False</td>\n",
       "      <td>False</td>\n",
       "      <td>1</td>\n",
       "    </tr>\n",
       "    <tr>\n",
       "      <th>1</th>\n",
       "      <td>Winstanley Hall Woods</td>\n",
       "      <td>1</td>\n",
       "      <td>False</td>\n",
       "      <td>False</td>\n",
       "      <td>2</td>\n",
       "    </tr>\n",
       "    <tr>\n",
       "      <th>2</th>\n",
       "      <td>Ackhurst Lane Sand Workings</td>\n",
       "      <td>3</td>\n",
       "      <td>False</td>\n",
       "      <td>False</td>\n",
       "      <td>2</td>\n",
       "    </tr>\n",
       "    <tr>\n",
       "      <th>3</th>\n",
       "      <td>Abbey Lakes</td>\n",
       "      <td>6</td>\n",
       "      <td>False</td>\n",
       "      <td>False</td>\n",
       "      <td>2</td>\n",
       "    </tr>\n",
       "    <tr>\n",
       "      <th>4</th>\n",
       "      <td>Wetland by M6</td>\n",
       "      <td>1</td>\n",
       "      <td>False</td>\n",
       "      <td>False</td>\n",
       "      <td>2</td>\n",
       "    </tr>\n",
       "    <tr>\n",
       "      <th>...</th>\n",
       "      <td>...</td>\n",
       "      <td>...</td>\n",
       "      <td>...</td>\n",
       "      <td>...</td>\n",
       "      <td>...</td>\n",
       "    </tr>\n",
       "    <tr>\n",
       "      <th>531</th>\n",
       "      <td>Mill Race &amp; Pasture at Haughton Dale</td>\n",
       "      <td>8</td>\n",
       "      <td>False</td>\n",
       "      <td>False</td>\n",
       "      <td>2</td>\n",
       "    </tr>\n",
       "    <tr>\n",
       "      <th>532</th>\n",
       "      <td>Three Sisters</td>\n",
       "      <td>2</td>\n",
       "      <td>False</td>\n",
       "      <td>False</td>\n",
       "      <td>2</td>\n",
       "    </tr>\n",
       "    <tr>\n",
       "      <th>533</th>\n",
       "      <td>Nan Nook Wood</td>\n",
       "      <td>7</td>\n",
       "      <td>False</td>\n",
       "      <td>False</td>\n",
       "      <td>2</td>\n",
       "    </tr>\n",
       "    <tr>\n",
       "      <th>534</th>\n",
       "      <td>Big Wood</td>\n",
       "      <td>10</td>\n",
       "      <td>False</td>\n",
       "      <td>False</td>\n",
       "      <td>2</td>\n",
       "    </tr>\n",
       "    <tr>\n",
       "      <th>535</th>\n",
       "      <td>Bank Wood &amp; Marsh</td>\n",
       "      <td>11</td>\n",
       "      <td>False</td>\n",
       "      <td>False</td>\n",
       "      <td>3</td>\n",
       "    </tr>\n",
       "  </tbody>\n",
       "</table>\n",
       "<p>536 rows × 5 columns</p>\n",
       "</div>"
      ],
      "text/plain": [
       "                                 SBI Name  No. Sites in 1km  moderate risk  \\\n",
       "0                                Big Wood                 0          False   \n",
       "1                   Winstanley Hall Woods                 1          False   \n",
       "2             Ackhurst Lane Sand Workings                 3          False   \n",
       "3                             Abbey Lakes                 6          False   \n",
       "4                           Wetland by M6                 1          False   \n",
       "..                                    ...               ...            ...   \n",
       "531  Mill Race & Pasture at Haughton Dale                 8          False   \n",
       "532                         Three Sisters                 2          False   \n",
       "533                         Nan Nook Wood                 7          False   \n",
       "534                              Big Wood                10          False   \n",
       "535                     Bank Wood & Marsh                11          False   \n",
       "\n",
       "     major risk Risk Scale  \n",
       "0         False          1  \n",
       "1         False          2  \n",
       "2         False          2  \n",
       "3         False          2  \n",
       "4         False          2  \n",
       "..          ...        ...  \n",
       "531       False          2  \n",
       "532       False          2  \n",
       "533       False          2  \n",
       "534       False          2  \n",
       "535       False          3  \n",
       "\n",
       "[536 rows x 5 columns]"
      ]
     },
     "execution_count": 14,
     "metadata": {},
     "output_type": "execute_result"
    }
   ],
   "source": [
    "#Scaled Risk \n",
    "bins = [-1, 0, 10, 20, 30, 40] #upper limit inclusive\n",
    "labels = [1, 2, 3, 4, 5]\n",
    "Dev_1km[\"Risk Scale\"] = pd.cut(Dev_1km[\"No. Sites in 1km\"], bins=bins, labels=labels)\n",
    "\n",
    "Dev_1km"
   ]
  }
 ],
 "metadata": {
  "kernelspec": {
   "display_name": "mss-env",
   "language": "python",
   "name": "python3"
  },
  "language_info": {
   "codemirror_mode": {
    "name": "ipython",
    "version": 3
   },
   "file_extension": ".py",
   "mimetype": "text/x-python",
   "name": "python",
   "nbconvert_exporter": "python",
   "pygments_lexer": "ipython3",
   "version": "3.11.13"
  }
 },
 "nbformat": 4,
 "nbformat_minor": 4
}

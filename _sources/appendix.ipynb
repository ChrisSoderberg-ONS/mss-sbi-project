{
 "cells": [
  {
   "cell_type": "markdown",
   "id": "27b02800-c5a6-4208-8c6c-1c08429aa3db",
   "metadata": {},
   "source": [
    "# Appendix"
   ]
  },
  {
   "cell_type": "markdown",
   "id": "694c4801-11d0-4f3a-a951-7636b630c75f",
   "metadata": {
    "editable": true,
    "slideshow": {
     "slide_type": ""
    },
    "tags": []
   },
   "source": [
    "## Appendix 1:\n",
    "\n",
    "When we produced the analysis, we defined a Site of Biological Importance (SBI) as highly at risk if 15 or more development sites were located within a 1 kilometre radius of the centroid of the SBI. In the following table we show what happens to the total number of SBIs categorised as highly at risk if we modify:\n",
    "    \n",
    "- The number of development sites that must be located within a given distance of the SBI\n",
    "- The maximum distance from the SBI where a development site is counted\n",
    "\n",
    "The table is shown below:"
   ]
  },
  {
   "cell_type": "code",
   "execution_count": 1,
   "id": "ce5a23b4-51c4-41aa-8625-0df40b781e86",
   "metadata": {
    "editable": true,
    "slideshow": {
     "slide_type": ""
    },
    "tags": [
     "hide-cell"
    ]
   },
   "outputs": [
    {
     "data": {
      "text/plain": [
       "[[0, 0, 0, 0],\n",
       " [31, 5, 1, 0],\n",
       " [149, 29, 8, 4],\n",
       " [289, 129, 45, 19],\n",
       " [393, 258, 153, 80],\n",
       " [451, 361, 279, 172]]"
      ]
     },
     "execution_count": 1,
     "metadata": {},
     "output_type": "execute_result"
    }
   ],
   "source": [
    "import geopandas as gpd\n",
    "import pandas as pd\n",
    "\n",
    "# Put the analysis code inside a function wrapper\n",
    "def produce_analysis(dist, grading):\n",
    "    # Load and join GMCA housing, industrial and office supply data\n",
    "    housing_supply_gdf = gpd.read_file(\"data/gmca_data/2024 GM Housing Land Supply GIS.shp\")\n",
    "    industrial_supply_gdf = gpd.read_file(\"data/gmca_data/2024 GM Industrial-warehousing Land Supply GIS.shp\")\n",
    "    offices_supply_gdf = gpd.read_file(\"data/gmca_data/2024 GM Offices Land Supply GIS.shp\")\n",
    "    \n",
    "    total_supply_gdf = pd.concat(\n",
    "        [housing_supply_gdf, industrial_supply_gdf, offices_supply_gdf]\n",
    "    )\n",
    "    \n",
    "    # Load and tidy GMEU Sites of Biological Importance data\n",
    "    sbi_gdf = gpd.read_file(\"data/gmeu_data/gm_sbi.shp\")\n",
    "    sbi_gdf[\"Category\"] = \"Site of Biological Importance\"\n",
    "    sbi_gdf = sbi_gdf.rename(columns = {\"district\": \"LAName\", \"site_nam\": \"SiteRef\"})\n",
    "    \n",
    "    # Join GMCA and GMEU data\n",
    "    full_data_gdf = pd.concat(\n",
    "        [total_supply_gdf, sbi_gdf[[\"SiteRef\", \"LAName\", \"Category\", \"geometry\"]]]\n",
    "    )\n",
    "    \n",
    "    #Use geopandas to get centroids of all the sites\n",
    "    full_data_gdf[\"centroid\"] = full_data_gdf.centroid\n",
    "    full_data_gdf[\"ref\"] = range(len(full_data_gdf))\n",
    "    \n",
    "    #Split into sites of biological importance and non-biological importance\n",
    "    sbi = full_data_gdf[full_data_gdf[\"Category\"] == \"Site of Biological Importance\"]\n",
    "    non_sbi = full_data_gdf[full_data_gdf[\"Category\"] != \"Site of Biological Importance\"]\n",
    "    \n",
    "    #Find the number of new developments less than 1km away for each SBI\n",
    "    sbinames = list(sbi[\"SiteRef\"]) \n",
    "    indexes = list(sbi[\"ref\"])\n",
    "    \n",
    "    \n",
    "    #list of all the sbis\n",
    "    distances = list()\n",
    "    less_than_1km = list() #creating empty lists to add to data frame\n",
    "    \n",
    "    for x in sbi[\"centroid\"]: #loop through each sbi\n",
    "        y = non_sbi[\"centroid\"].distance(x) #find all the distances of developments to centroid\n",
    "        for distance in y: #filter for less than 1km away\n",
    "                if distance < dist:\n",
    "                    distances.append(distance)\n",
    "        r = len(distances)    #find no. developments less than 1km away to each sbi\n",
    "        less_than_1km.append(r)\n",
    "        distances = list()\n",
    "    \n",
    "    Dev_1km = pd.DataFrame({'SiteRef':sbinames, 'No. Sites in 1km': less_than_1km, 'ref': indexes}) #create dataframe of sbi and no. developments\n",
    "\n",
    "    Dev_1km = Dev_1km[Dev_1km[\"No. Sites in 1km\"] >= grading]\n",
    "\n",
    "    return len(Dev_1km)\n",
    "    \n",
    "\n",
    "# Set levels for the distance cutoff and the grading criteria\n",
    "heuristics_dist = [250, 500, 750, 1000, 1250, 1500]\n",
    "heuristics_grade = [5, 10, 15, 20]\n",
    "\n",
    "table = []\n",
    "\n",
    "# Loop through the distance and grading criteria levels\n",
    "for d in heuristics_dist:\n",
    "    table_row = []\n",
    "    for g in heuristics_grade:\n",
    "        table_row.append(produce_analysis(d, g))\n",
    "    table.append(table_row)\n",
    "\n",
    "table"
   ]
  },
  {
   "cell_type": "markdown",
   "id": "790a6f7b-6dee-439a-b07f-79c1e60eb541",
   "metadata": {},
   "source": [
    "|    | 5 sites | 10 sites | 15 sites | 20 sites |\n",
    "|-------|-----|-----|-----|-----|\n",
    "| 250m  | 0   | 0   | 0   | 0   |\n",
    "| 500m  | 31  | 5   | 1   | 0   |\n",
    "| 750m  | 149 | 29  | 8   | 4   |\n",
    "| 1000m | 289 | 129 | 45  | 19  |\n",
    "| 1250m | 393 | 258 | 153 | 80  |\n",
    "| 1500m | 451 | 361 | 279 | 172 |"
   ]
  },
  {
   "cell_type": "markdown",
   "id": "f8e0cfd2",
   "metadata": {},
   "source": [
    "As expected, making the categorisation more stringent (e.g., to categorise an SBI at risk, we require a large number of development sites located very close to the SBI), the number of SBIs categorised as highly at risk declines. Interestingly, with a distance metric of 250 metres, there are no SBIs categorised as highly at risk even when we require only 5 sites be located within 250 metres. This table shows the results from our chosen heuristic (15 sites located within 1000 metres) is relatively robust to modifying the number of sites required within that chosen radius, however modifying the radius causes the results to fluctuate quite a bit more."
   ]
  }
 ],
 "metadata": {
  "kernelspec": {
   "display_name": "mss-env",
   "language": "python",
   "name": "mss-env"
  },
  "language_info": {
   "codemirror_mode": {
    "name": "ipython",
    "version": 3
   },
   "file_extension": ".py",
   "mimetype": "text/x-python",
   "name": "python",
   "nbconvert_exporter": "python",
   "pygments_lexer": "ipython3",
   "version": "3.11.12"
  }
 },
 "nbformat": 4,
 "nbformat_minor": 5
}

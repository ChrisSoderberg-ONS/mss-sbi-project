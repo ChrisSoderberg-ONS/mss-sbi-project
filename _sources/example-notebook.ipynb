{
 "cells": [
  {
   "cell_type": "markdown",
   "metadata": {},
   "source": [
    "# Example notebook\n",
    "\n",
    "This is page exists to show you how to add additional notebooks to the book. Notebooks are used to display functional code, outputs and text together in the same document."
   ]
  },
  {
   "cell_type": "markdown",
   "metadata": {},
   "source": [
    "## Example code - Calculating distances between centroids\n",
    "\n",
    "Load and join up the example data:"
   ]
  },
  {
   "cell_type": "code",
   "execution_count": 1,
   "metadata": {},
   "outputs": [],
   "source": [
    "import geopandas as gpd\n",
    "import pandas as pd\n",
    "\n",
    "# Load and join GMCA housing, industrial and office supply data\n",
    "\n",
    "housing_supply_gdf = gpd.read_file(\"data/gmca_data/2024 GM Housing Land Supply GIS.shp\")\n",
    "industrial_supply_gdf = gpd.read_file(\"data/gmca_data/2024 GM Industrial-warehousing Land Supply GIS.shp\")\n",
    "offices_supply_gdf = gpd.read_file(\"data/gmca_data/2024 GM Offices Land Supply GIS.shp\")\n",
    "\n",
    "total_supply_gdf = pd.concat(\n",
    "    [housing_supply_gdf, industrial_supply_gdf, offices_supply_gdf]\n",
    ")\n",
    "\n",
    "# Load and tidy GMEU Sites of Biological Importance data\n",
    "\n",
    "sbi_gdf = gpd.read_file(\"data/gmeu_data/gm_sbi.shp\")\n",
    "\n",
    "sbi_gdf[\"Category\"] = \"Site of Biological Importance\"\n",
    "\n",
    "sbi_gdf = sbi_gdf.rename(columns = {\"district\": \"LAName\", \"site_nam\": \"SiteRef\"})\n",
    "\n",
    "# Join GMCA and GMEU data\n",
    "\n",
    "full_data_gdf = pd.concat(\n",
    "    [total_supply_gdf, sbi_gdf[[\"SiteRef\", \"LAName\", \"Category\", \"geometry\"]]]\n",
    ")"
   ]
  },
  {
   "cell_type": "markdown",
   "metadata": {},
   "source": [
    "We can use GeoPandas to get the centroids of all our data:"
   ]
  },
  {
   "cell_type": "code",
   "execution_count": 2,
   "metadata": {},
   "outputs": [],
   "source": [
    "full_data_gdf[\"centroid\"] = full_data_gdf.centroid"
   ]
  },
  {
   "cell_type": "markdown",
   "metadata": {},
   "source": [
    "Now we can extract the location of a random SBI and a random proposed development site:"
   ]
  },
  {
   "cell_type": "code",
   "execution_count": 3,
   "metadata": {},
   "outputs": [
    {
     "name": "stdout",
     "output_type": "stream",
     "text": [
      "POINT (364245.77073714783 412768.0536212642)\n"
     ]
    }
   ],
   "source": [
    "random_sbi = full_data_gdf[\n",
    "    full_data_gdf[\"Category\"] == \"Site of Biological Importance\"\n",
    "    ].sample(1)\n",
    "\n",
    "random_sbi = random_sbi[\"centroid\"].iloc[0]\n",
    "\n",
    "print(random_sbi)"
   ]
  },
  {
   "cell_type": "code",
   "execution_count": 4,
   "metadata": {},
   "outputs": [
    {
     "name": "stdout",
     "output_type": "stream",
     "text": [
      "POINT (378613.07925907394 392382.20419427665)\n"
     ]
    }
   ],
   "source": [
    "random_housing = full_data_gdf[\n",
    "    full_data_gdf[\"Category\"] == \"Housing\"\n",
    "    ].sample(1)\n",
    "\n",
    "random_housing = random_housing[\"centroid\"].iloc[0]\n",
    "\n",
    "print(random_housing)"
   ]
  },
  {
   "cell_type": "markdown",
   "metadata": {},
   "source": [
    "The distance between two Point objects can be calculated using Shapely:"
   ]
  },
  {
   "cell_type": "code",
   "execution_count": 5,
   "metadata": {},
   "outputs": [
    {
     "name": "stdout",
     "output_type": "stream",
     "text": [
      "24939.98\n"
     ]
    }
   ],
   "source": [
    "import shapely\n",
    "\n",
    "print(\n",
    "    round(shapely.distance(random_housing, random_sbi), 2)\n",
    ")"
   ]
  }
 ],
 "metadata": {
  "kernelspec": {
   "display_name": "test-env",
   "language": "python",
   "name": "test-env"
  },
  "language_info": {
   "codemirror_mode": {
    "name": "ipython",
    "version": 3
   },
   "file_extension": ".py",
   "mimetype": "text/x-python",
   "name": "python",
   "nbconvert_exporter": "python",
   "pygments_lexer": "ipython3",
   "version": "3.11.13"
  }
 },
 "nbformat": 4,
 "nbformat_minor": 4
}
